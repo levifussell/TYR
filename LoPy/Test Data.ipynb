{
 "cells": [
  {
   "cell_type": "markdown",
   "metadata": {},
   "source": [
    "# Determing the movement of people in a retail shopping center\n",
    "\n",
    "IoT Challenge 2017, team TyR data generator was created to model generate and analyse data which could be observed  using the developed LoPy software.\n",
    "\n",
    "The following code generates a csv file with the same formating as the one created using the designed LoPy software and randomly generates movement and consumer behavior. This data is then parsed and graphs are generated to assist in locating patterns of consumer behavior."
   ]
  },
  {
   "cell_type": "markdown",
   "metadata": {},
   "source": [
    "The following libraries will assist in data analysis:"
   ]
  },
  {
   "cell_type": "code",
   "execution_count": 62,
   "metadata": {
    "collapsed": false
   },
   "outputs": [],
   "source": [
    "import csv\n",
    "import random\n",
    "import pandas as pd\n",
    "import numpy as np\n",
    "import plotly.plotly as py\n",
    "py.sign_in('jamesguyer', 'Y712MgscGHtjpZEcOzb3')\n",
    "import plotly.graph_objs as go\n",
    "from datetime import datetime, timedelta\n",
    "\n",
    "%matplotlib inline"
   ]
  },
  {
   "cell_type": "markdown",
   "metadata": {},
   "source": [
    "The loPy contains a timing method that counts seconrds from January 1st 2000 as epoch. We will need a function to extract these seconds into a date."
   ]
  },
  {
   "cell_type": "code",
   "execution_count": 51,
   "metadata": {
    "collapsed": false
   },
   "outputs": [],
   "source": [
    "def extract_date(input_seconds):\n",
    "    # LoPy start of your epoch\n",
    "    base = datetime(2000, 1, 1)\n",
    "\n",
    "    # Number of current seconds\n",
    "    time = base + timedelta(seconds=input_seconds)\n",
    "    \n",
    "    # return the date and time\n",
    "    return str(time.year) + '-' + str(time.month) + '-' + str(time.day) + ' ' + str(time.hour) + ':' + str(time.minute) + ':' + str(time.second)"
   ]
  },
  {
   "cell_type": "markdown",
   "metadata": {},
   "source": [
    "Write a csv file containing purely random data."
   ]
  },
  {
   "cell_type": "code",
   "execution_count": 56,
   "metadata": {
    "collapsed": false
   },
   "outputs": [
    {
     "name": "stdout",
     "output_type": "stream",
     "text": [
      "Generated CSV Test File\n"
     ]
    }
   ],
   "source": [
    "class people_gen:\n",
    "    def __init__(self,direction_swap):\n",
    "        self.direction_swap = direction_swap\n",
    "        self.swapcount = 0\n",
    "        \n",
    "    def timing_people(self):\n",
    "        # generate a random time for people\n",
    "        ordinary_time = random.uniform(0.5, 2)\n",
    "        if ordinary_time > 1.8:\n",
    "            return (\"{0:.2f}\".format(random.uniform(1, 15)))\n",
    "        else:\n",
    "            return (\"{0:.2f}\".format(ordinary_time))\n",
    "\n",
    "    def direction_people(self):\n",
    "        # determine direction of travel\n",
    "        direction = random.randrange(11)\n",
    "        if self.swapcount < self.direction_swap:\n",
    "            if direction < 7:\n",
    "                self.swapcount = self.swapcount + 1\n",
    "                return 1\n",
    "            else:\n",
    "                return 0\n",
    "        else:\n",
    "            if direction < 7:\n",
    "                self.swapcount = self.swapcount + 1\n",
    "                return 0\n",
    "            else:\n",
    "                return 1\n",
    "    \n",
    "class timeseconds:\n",
    "    def __init__(self,start):\n",
    "        # testing start time in seconds\n",
    "        self.seconds = start\n",
    "\n",
    "    def next_time(self):\n",
    "        # generate a following time\n",
    "        self.seconds = self.seconds + random.uniform(1, 15)\n",
    "        return extract_date(self.seconds)\n",
    "\n",
    "    \n",
    "def test_data_write(max_lines):\n",
    "    # time now in seconds since Jan 1st 2000\n",
    "    start_time = 541183209\n",
    "    # time control object\n",
    "    ts = timeseconds(start_time)\n",
    "    # after how many entries to change bias direction\n",
    "    direction_swap = max_lines/2\n",
    "    # people generator object\n",
    "    pg = people_gen(direction_swap)\n",
    "    # open csv file for outputting test data\n",
    "    with open('testdata.csv', 'wb') as csvfile:\n",
    "        testwriter = csv.writer(csvfile, delimiter=',')\n",
    "        testwriter.writerow(['Timecode','Sensor_ID','Time_Stopped','Right_Pass','Left_Pass'])\n",
    "        for x in range(0, max_lines):\n",
    "            if pg.direction_people() == 1:\n",
    "                testwriter.writerow([str(ts.next_time()),str(1),str(pg.timing_people()),str(0),str(1)])\n",
    "            else:\n",
    "                testwriter.writerow([str(ts.next_time()),str(1),str(pg.timing_people()),str(1),str(0)])\n",
    "        print(\"Generated CSV Test File\")\n",
    "        \n",
    "# Generate CSV with 2000 entries\n",
    "test_data_write(2000)"
   ]
  },
  {
   "cell_type": "markdown",
   "metadata": {},
   "source": [
    "Read in the CSV data for data operations"
   ]
  },
  {
   "cell_type": "code",
   "execution_count": 57,
   "metadata": {
    "collapsed": false
   },
   "outputs": [
    {
     "data": {
      "text/html": [
       "<div>\n",
       "<table border=\"1\" class=\"dataframe\">\n",
       "  <thead>\n",
       "    <tr style=\"text-align: right;\">\n",
       "      <th></th>\n",
       "      <th>Timecode</th>\n",
       "      <th>Sensor_ID</th>\n",
       "      <th>Time_Stopped</th>\n",
       "      <th>Right_Pass</th>\n",
       "      <th>Left_Pass</th>\n",
       "    </tr>\n",
       "  </thead>\n",
       "  <tbody>\n",
       "    <tr>\n",
       "      <th>0</th>\n",
       "      <td>2017-2-23 16:40:21</td>\n",
       "      <td>1</td>\n",
       "      <td>1.49</td>\n",
       "      <td>0</td>\n",
       "      <td>1</td>\n",
       "    </tr>\n",
       "    <tr>\n",
       "      <th>1</th>\n",
       "      <td>2017-2-23 16:40:23</td>\n",
       "      <td>1</td>\n",
       "      <td>1.71</td>\n",
       "      <td>1</td>\n",
       "      <td>0</td>\n",
       "    </tr>\n",
       "    <tr>\n",
       "      <th>2</th>\n",
       "      <td>2017-2-23 16:40:27</td>\n",
       "      <td>1</td>\n",
       "      <td>1.48</td>\n",
       "      <td>0</td>\n",
       "      <td>1</td>\n",
       "    </tr>\n",
       "    <tr>\n",
       "      <th>3</th>\n",
       "      <td>2017-2-23 16:40:39</td>\n",
       "      <td>1</td>\n",
       "      <td>1.61</td>\n",
       "      <td>0</td>\n",
       "      <td>1</td>\n",
       "    </tr>\n",
       "    <tr>\n",
       "      <th>4</th>\n",
       "      <td>2017-2-23 16:40:43</td>\n",
       "      <td>1</td>\n",
       "      <td>1.17</td>\n",
       "      <td>1</td>\n",
       "      <td>0</td>\n",
       "    </tr>\n",
       "  </tbody>\n",
       "</table>\n",
       "</div>"
      ],
      "text/plain": [
       "             Timecode  Sensor_ID  Time_Stopped  Right_Pass  Left_Pass\n",
       "0  2017-2-23 16:40:21          1          1.49           0          1\n",
       "1  2017-2-23 16:40:23          1          1.71           1          0\n",
       "2  2017-2-23 16:40:27          1          1.48           0          1\n",
       "3  2017-2-23 16:40:39          1          1.61           0          1\n",
       "4  2017-2-23 16:40:43          1          1.17           1          0"
      ]
     },
     "execution_count": 57,
     "metadata": {},
     "output_type": "execute_result"
    }
   ],
   "source": [
    "# Import data from csv\n",
    "df = pd.read_csv('testdata.csv')\n",
    "df.head()"
   ]
  },
  {
   "cell_type": "markdown",
   "metadata": {},
   "source": [
    "Plot the test data for the amount of time spent at location 1."
   ]
  },
  {
   "cell_type": "code",
   "execution_count": 70,
   "metadata": {
    "collapsed": false
   },
   "outputs": [
    {
     "data": {
      "text/html": [
       "<iframe id=\"igraph\" scrolling=\"no\" style=\"border:none;\" seamless=\"seamless\" src=\"https://plot.ly/~jamesguyer/4.embed\" height=\"525px\" width=\"100%\"></iframe>"
      ],
      "text/plain": [
       "<plotly.tools.PlotlyDisplay object>"
      ]
     },
     "execution_count": 70,
     "metadata": {},
     "output_type": "execute_result"
    }
   ],
   "source": [
    "trace = go.Scatter(x=df['Timecode'],y=df['Time_Stopped'],name='seconds')\n",
    "\n",
    "layout = go.Layout(\n",
    "                  title='View Time People Passing Feburary 23rd 2017',\n",
    "                  plot_bgcolor='rgb(230, 230,230)',\n",
    "                  showlegend=True\n",
    "                  )\n",
    "\n",
    "fig = go.Figure(data=[trace], layout=layout)\n",
    "\n",
    "py.iplot(fig, filename='people_timing')"
   ]
  },
  {
   "cell_type": "markdown",
   "metadata": {},
   "source": [
    "We could also view the people traveling left or right or other combinations of data."
   ]
  },
  {
   "cell_type": "code",
   "execution_count": null,
   "metadata": {
    "collapsed": true
   },
   "outputs": [],
   "source": []
  }
 ],
 "metadata": {
  "anaconda-cloud": {},
  "kernelspec": {
   "display_name": "Python [Root]",
   "language": "python",
   "name": "Python [Root]"
  },
  "language_info": {
   "codemirror_mode": {
    "name": "ipython",
    "version": 2
   },
   "file_extension": ".py",
   "mimetype": "text/x-python",
   "name": "python",
   "nbconvert_exporter": "python",
   "pygments_lexer": "ipython2",
   "version": "2.7.12"
  }
 },
 "nbformat": 4,
 "nbformat_minor": 0
}
